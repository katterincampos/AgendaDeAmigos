{
  "nbformat": 4,
  "nbformat_minor": 0,
  "metadata": {
    "colab": {
      "name": "Tarea1programaciondefylambda.ipynb",
      "provenance": [],
      "authorship_tag": "ABX9TyO+OJuFRw2VIAxNJ1W6qSa9",
      "include_colab_link": true
    },
    "kernelspec": {
      "name": "python3",
      "display_name": "Python 3"
    },
    "language_info": {
      "name": "python"
    }
  },
  "cells": [
    {
      "cell_type": "markdown",
      "metadata": {
        "id": "view-in-github",
        "colab_type": "text"
      },
      "source": [
        "<a href=\"https://colab.research.google.com/github/katterincampos/AgendaDeAmigos/blob/master/Tarea1programaciondefylambda.ipynb\" target=\"_parent\"><img src=\"https://colab.research.google.com/assets/colab-badge.svg\" alt=\"Open In Colab\"/></a>"
      ]
    },
    {
      "cell_type": "markdown",
      "source": [
        "Hacer un algoritmo en python que convierta de grados Celsius a Kelvin, usando funciones de usuario y lambda."
      ],
      "metadata": {
        "id": "ezwlOtiuOPJr"
      }
    },
    {
      "cell_type": "code",
      "source": [
        "gradosc = [27, 30, 32, 35, 40, 45]"
      ],
      "metadata": {
        "id": "fEH3daxBWfDv"
      },
      "execution_count": 18,
      "outputs": []
    },
    {
      "cell_type": "code",
      "source": [
        "def convertirCaK(c):\n",
        "  return c+273.15 "
      ],
      "metadata": {
        "id": "LUs2hij0W3lK"
      },
      "execution_count": 14,
      "outputs": []
    },
    {
      "cell_type": "code",
      "source": [
        "print(gradosc, \" Respuesta: \", list(map(lambda c: c+273.15, gradosc)) )"
      ],
      "metadata": {
        "colab": {
          "base_uri": "https://localhost:8080/"
        },
        "id": "pDl5OxTgXKdJ",
        "outputId": "3a1bf172-4a20-4ae8-e2bd-34b4f7bb46f4"
      },
      "execution_count": 17,
      "outputs": [
        {
          "output_type": "stream",
          "name": "stdout",
          "text": [
            "[27, 30, 32, 35, 40, 45]  Respuesta:  [300.15, 303.15, 305.15, 308.15, 313.15, 318.15]\n"
          ]
        }
      ]
    },
    {
      "cell_type": "markdown",
      "source": [
        "Hacer un algoritmo  que convierte de grados Kelvin a Celsius usando funciones de usuario y lambda."
      ],
      "metadata": {
        "id": "0XqMd9G5bhJU"
      }
    },
    {
      "cell_type": "code",
      "source": [
        "gradosk = [300.15, 303.15, 305.15, 308.15, 313.15, 318.15]"
      ],
      "metadata": {
        "id": "CXfkoKcWahqN"
      },
      "execution_count": 19,
      "outputs": []
    },
    {
      "cell_type": "code",
      "source": [
        "def convertirKaC(k):\n",
        "  return k-273.15 "
      ],
      "metadata": {
        "id": "jmK55XZ4avZK"
      },
      "execution_count": 22,
      "outputs": []
    },
    {
      "cell_type": "code",
      "source": [
        "print(gradosk, \" Respuesta: \", list(map(lambda k: k-273.15, gradosk)) )"
      ],
      "metadata": {
        "colab": {
          "base_uri": "https://localhost:8080/"
        },
        "id": "BgIAemPIbFsA",
        "outputId": "807ee511-01dc-49fc-f5dc-c2379f85f1c3"
      },
      "execution_count": 24,
      "outputs": [
        {
          "output_type": "stream",
          "name": "stdout",
          "text": [
            "[300.15, 303.15, 305.15, 308.15, 313.15, 318.15]  Respuesta:  [27.0, 30.0, 32.0, 35.0, 40.0, 45.0]\n"
          ]
        }
      ]
    },
    {
      "cell_type": "markdown",
      "source": [
        "Hacer un algoritmo en python que encuentre la Nota Final de Ciclo de una Materia en Particular usando funciones de usuario y lambda."
      ],
      "metadata": {
        "id": "_7Gayu9LeQ4U"
      }
    }
  ]
}