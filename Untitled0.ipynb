{
  "nbformat": 4,
  "nbformat_minor": 0,
  "metadata": {
    "colab": {
      "name": "Untitled0.ipynb",
      "provenance": [],
      "authorship_tag": "ABX9TyOVKLAjq+JlRw38l23afD9/",
      "include_colab_link": true
    },
    "kernelspec": {
      "name": "python3",
      "display_name": "Python 3"
    },
    "language_info": {
      "name": "python"
    }
  },
  "cells": [
    {
      "cell_type": "markdown",
      "metadata": {
        "id": "view-in-github",
        "colab_type": "text"
      },
      "source": [
        "<a href=\"https://colab.research.google.com/github/katterincampos/AgendaDeAmigos/blob/master/Untitled0.ipynb\" target=\"_parent\"><img src=\"https://colab.research.google.com/assets/colab-badge.svg\" alt=\"Open In Colab\"/></a>"
      ]
    },
    {
      "cell_type": "code",
      "execution_count": 2,
      "metadata": {
        "colab": {
          "base_uri": "https://localhost:8080/"
        },
        "id": "iyggDsHgiy1Y",
        "outputId": "99536438-2b4a-4684-c620-2c7f6aecb68b"
      },
      "outputs": [
        {
          "output_type": "stream",
          "name": "stdout",
          "text": [
            "la suma de num1:  5 + num2:  4.6 es igual a:  9.6\n"
          ]
        }
      ],
      "source": [
        "num1 = 5\n",
        "num2 = 4.6\n",
        "resp = num1 + num2\n",
        "print(\"la suma de num1: \" , num1 , \"+ num2: \", num2, \"es igual a: \", resp)"
      ]
    },
    {
      "cell_type": "code",
      "source": [
        "num1 = 6\n",
        "num2 = 2\n",
        "resp = num1 - num2\n",
        "print(\"la resta  de num1: \" , num1 , \"- num2: \", num2, \"es igual a: \", resp)"
      ],
      "metadata": {
        "colab": {
          "base_uri": "https://localhost:8080/"
        },
        "id": "SGB6L-Vlko8K",
        "outputId": "ff1d39a9-4320-4efc-d74f-b86d70c3f24e"
      },
      "execution_count": 4,
      "outputs": [
        {
          "output_type": "stream",
          "name": "stdout",
          "text": [
            "la resta  de num1:  6 - num2:  2 es igual a:  4\n"
          ]
        }
      ]
    },
    {
      "cell_type": "code",
      "source": [
        "num1 = input(\"Ingrese un numero: \")\n",
        "num2 = input(\"Ingrerse otro Num: \")\n",
        "resp = num1 + num2\n",
        "print(\"suma\", resp)"
      ],
      "metadata": {
        "colab": {
          "base_uri": "https://localhost:8080/"
        },
        "id": "xYlLRNEWloRH",
        "outputId": "df49d33a-b980-4873-fd3f-2d78543b5a0f"
      },
      "execution_count": 5,
      "outputs": [
        {
          "output_type": "stream",
          "name": "stdout",
          "text": [
            "Ingrese un numero: 5\n",
            "Ingrerse otro Num: 4.5\n",
            "suma 54.5\n"
          ]
        }
      ]
    },
    {
      "cell_type": "code",
      "source": [
        "num1 =int (input(\"Ingrese un numero entero: \"))\n",
        "num2 = float(input(\"Ingrerse otro Numero decimal: \"))\n",
        "resp = num1 + num2\n",
        "print(\"suma\", resp)"
      ],
      "metadata": {
        "colab": {
          "base_uri": "https://localhost:8080/"
        },
        "id": "33NioAi-ma-E",
        "outputId": "83dd8a67-0aaa-411b-bca8-ec7a28156a94"
      },
      "execution_count": 8,
      "outputs": [
        {
          "output_type": "stream",
          "name": "stdout",
          "text": [
            "Ingrese un numero entero: 5\n",
            "Ingrerse otro Numero decimal: 4.6\n",
            "suma 9.6\n"
          ]
        }
      ]
    },
    {
      "cell_type": "code",
      "source": [
        "num1 = int (input(\"ingrese un numero entero: \"))\n",
        "num2 = int (input(\"ingrese un numero entero: \"))\n",
        "resp = num1 * num2\n",
        "print(\"multiplicacion\", resp)"
      ],
      "metadata": {
        "colab": {
          "base_uri": "https://localhost:8080/"
        },
        "id": "cYlgZOuSn6E6",
        "outputId": "f086329d-9118-4aaf-e09f-7b9a36c14163"
      },
      "execution_count": 9,
      "outputs": [
        {
          "output_type": "stream",
          "name": "stdout",
          "text": [
            "ingrese un numero entero: 2\n",
            "ingrese un numero entero: 2\n",
            "multiplicacion 4\n"
          ]
        }
      ]
    },
    {
      "cell_type": "code",
      "source": [
        "nombre = input(\"dime tu nombre: \")\n",
        "print(nombre, type(nombre), len(nombre))\n",
        "print(nombre[0])\n",
        "print(nombre[1])\n",
        "print(nombre[2])\n",
        "print(nombre[3])\n"
      ],
      "metadata": {
        "colab": {
          "base_uri": "https://localhost:8080/"
        },
        "id": "_R7bwlwsqnXM",
        "outputId": "e485ca1d-0b66-44ad-ea26-3c662cef7729"
      },
      "execution_count": 12,
      "outputs": [
        {
          "output_type": "stream",
          "name": "stdout",
          "text": [
            "dime tu nombre: katy\n",
            "katy <class 'str'> 4\n",
            "k\n",
            "a\n",
            "t\n",
            "y\n"
          ]
        }
      ]
    },
    {
      "cell_type": "code",
      "source": [
        "resp = 4 + 4 * 6 / 2 + 1\n",
        "print(resp)"
      ],
      "metadata": {
        "colab": {
          "base_uri": "https://localhost:8080/"
        },
        "id": "AsPmyjCqtSwQ",
        "outputId": "79d89207-5e5b-4bcd-9f43-baa2de0b0dc1"
      },
      "execution_count": 13,
      "outputs": [
        {
          "output_type": "stream",
          "name": "stdout",
          "text": [
            "17.0\n"
          ]
        }
      ]
    },
    {
      "cell_type": "code",
      "source": [
        "gustaProgrmacion = False\n",
        "print(\"Te gusta programar: \", gustaProgrmacion)\n",
        "\n",
        "gustaDiseño = True\n",
        "print(\"Te gusta diseñar: \", gustaDiseño)"
      ],
      "metadata": {
        "colab": {
          "base_uri": "https://localhost:8080/"
        },
        "id": "9Fzf-F3KuKwm",
        "outputId": "906cbc39-994e-40a7-fdf4-7cf996b5ad44"
      },
      "execution_count": 15,
      "outputs": [
        {
          "output_type": "stream",
          "name": "stdout",
          "text": [
            "Te gusta programar:  False\n",
            "Te gusta diseñar:  True\n"
          ]
        }
      ]
    },
    {
      "cell_type": "markdown",
      "source": [
        ""
      ],
      "metadata": {
        "id": "qmAFAkb8vB8E"
      }
    },
    {
      "cell_type": "code",
      "source": [
        "def suma(num1, num2):\n",
        "  return num1 + num2\n",
        "  print(\"la suma  de 5 + 7 = \" , suma(5,7))"
      ],
      "metadata": {
        "id": "pkDUnHAjwIJS"
      },
      "execution_count": 2,
      "outputs": []
    },
    {
      "cell_type": "code",
      "source": [
        "def suma(num1, num2):\n",
        "  return num1 + num2\n",
        "num1 =int (input(\"Ingrese un numero entero: \"))\n",
        "num2 = int(input(\"Ingrerse otro Numero : \"))\n",
        "resp = num1 + num2\n",
        "print(\"suma\", resp)"
      ],
      "metadata": {
        "colab": {
          "base_uri": "https://localhost:8080/"
        },
        "id": "_IShCaLaxZvY",
        "outputId": "e317455e-bd88-445a-a715-62e911ed1f53"
      },
      "execution_count": 6,
      "outputs": [
        {
          "output_type": "stream",
          "name": "stdout",
          "text": [
            "Ingrese un numero entero: 2\n",
            "Ingrerse otro Numero : 2\n",
            "suma 4\n"
          ]
        }
      ]
    }
  ]
}